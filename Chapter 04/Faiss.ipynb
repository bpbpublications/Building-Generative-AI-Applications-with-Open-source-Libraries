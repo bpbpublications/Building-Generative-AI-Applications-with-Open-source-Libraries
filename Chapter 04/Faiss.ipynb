{
 "cells": [
  {
   "cell_type": "code",
   "execution_count": 1,
   "id": "76dcc614",
   "metadata": {},
   "outputs": [
    {
     "name": "stdout",
     "output_type": "stream",
     "text": [
      "Collecting faiss-cpu\n",
      "  Downloading faiss_cpu-1.7.4-cp311-cp311-win_amd64.whl (10.8 MB)\n",
      "     ---------------------------------------- 0.0/10.8 MB ? eta -:--:--\n",
      "     ---------------------------------------- 0.0/10.8 MB ? eta -:--:--\n",
      "     --------------------------------------- 0.0/10.8 MB 262.6 kB/s eta 0:00:41\n",
      "     --------------------------------------- 0.1/10.8 MB 491.5 kB/s eta 0:00:22\n",
      "     - -------------------------------------- 0.5/10.8 MB 2.3 MB/s eta 0:00:05\n",
      "     ----- ---------------------------------- 1.4/10.8 MB 6.5 MB/s eta 0:00:02\n",
      "     ---------- ----------------------------- 2.8/10.8 MB 10.6 MB/s eta 0:00:01\n",
      "     ------------- -------------------------- 3.7/10.8 MB 11.9 MB/s eta 0:00:01\n",
      "     ----------------- ---------------------- 4.8/10.8 MB 13.3 MB/s eta 0:00:01\n",
      "     --------------------- ------------------ 5.9/10.8 MB 15.0 MB/s eta 0:00:01\n",
      "     -------------------------- ------------- 7.2/10.8 MB 15.8 MB/s eta 0:00:01\n",
      "     ------------------------------- -------- 8.5/10.8 MB 17.6 MB/s eta 0:00:01\n",
      "     ------------------------------------ --- 9.8/10.8 MB 18.0 MB/s eta 0:00:01\n",
      "     --------------------------------------  10.8/10.8 MB 26.2 MB/s eta 0:00:01\n",
      "     --------------------------------------  10.8/10.8 MB 26.2 MB/s eta 0:00:01\n",
      "     --------------------------------------- 10.8/10.8 MB 22.6 MB/s eta 0:00:00\n",
      "Installing collected packages: faiss-cpu\n",
      "Successfully installed faiss-cpu-1.7.4\n"
     ]
    }
   ],
   "source": [
    "!pip install faiss-cpu"
   ]
  },
  {
   "cell_type": "code",
   "execution_count": 2,
   "id": "dbd93df2",
   "metadata": {},
   "outputs": [
    {
     "name": "stdout",
     "output_type": "stream",
     "text": [
      "Collecting sentence-transformers\n",
      "  Using cached sentence_transformers-2.2.2-py3-none-any.whl\n",
      "Requirement already satisfied: transformers<5.0.0,>=4.6.0 in c:\\users\\srika\\anaconda3\\lib\\site-packages (from sentence-transformers) (4.32.1)\n",
      "Requirement already satisfied: tqdm in c:\\users\\srika\\anaconda3\\lib\\site-packages (from sentence-transformers) (4.65.0)\n",
      "Requirement already satisfied: torch>=1.6.0 in c:\\users\\srika\\anaconda3\\lib\\site-packages (from sentence-transformers) (2.1.1)\n",
      "Collecting torchvision (from sentence-transformers)\n",
      "  Obtaining dependency information for torchvision from https://files.pythonhosted.org/packages/f9/e6/3c821e7417acd82df89e39f09156ce80d58817b5b4b1ac5453b522bc5dd4/torchvision-0.16.2-cp311-cp311-win_amd64.whl.metadata\n",
      "  Downloading torchvision-0.16.2-cp311-cp311-win_amd64.whl.metadata (6.6 kB)\n",
      "Requirement already satisfied: numpy in c:\\users\\srika\\anaconda3\\lib\\site-packages (from sentence-transformers) (1.24.3)\n",
      "Requirement already satisfied: scikit-learn in c:\\users\\srika\\anaconda3\\lib\\site-packages (from sentence-transformers) (1.3.0)\n",
      "Requirement already satisfied: scipy in c:\\users\\srika\\anaconda3\\lib\\site-packages (from sentence-transformers) (1.11.1)\n",
      "Requirement already satisfied: nltk in c:\\users\\srika\\anaconda3\\lib\\site-packages (from sentence-transformers) (3.8.1)\n",
      "Collecting sentencepiece (from sentence-transformers)\n",
      "  Downloading sentencepiece-0.1.99-cp311-cp311-win_amd64.whl (977 kB)\n",
      "     ---------------------------------------- 0.0/977.5 kB ? eta -:--:--\n",
      "     ---------------------------------------- 10.2/977.5 kB ? eta -:--:--\n",
      "     - ----------------------------------- 41.0/977.5 kB 487.6 kB/s eta 0:00:02\n",
      "     ------- ------------------------------ 204.8/977.5 kB 1.8 MB/s eta 0:00:01\n",
      "     -------------------------------------  972.8/977.5 kB 6.8 MB/s eta 0:00:01\n",
      "     -------------------------------------- 977.5/977.5 kB 5.6 MB/s eta 0:00:00\n",
      "Requirement already satisfied: huggingface-hub>=0.4.0 in c:\\users\\srika\\anaconda3\\lib\\site-packages (from sentence-transformers) (0.15.1)\n",
      "Requirement already satisfied: filelock in c:\\users\\srika\\anaconda3\\lib\\site-packages (from huggingface-hub>=0.4.0->sentence-transformers) (3.9.0)\n",
      "Requirement already satisfied: fsspec in c:\\users\\srika\\anaconda3\\lib\\site-packages (from huggingface-hub>=0.4.0->sentence-transformers) (2023.10.0)\n",
      "Requirement already satisfied: requests in c:\\users\\srika\\anaconda3\\lib\\site-packages (from huggingface-hub>=0.4.0->sentence-transformers) (2.31.0)\n",
      "Requirement already satisfied: pyyaml>=5.1 in c:\\users\\srika\\anaconda3\\lib\\site-packages (from huggingface-hub>=0.4.0->sentence-transformers) (6.0)\n",
      "Requirement already satisfied: typing-extensions>=3.7.4.3 in c:\\users\\srika\\anaconda3\\lib\\site-packages (from huggingface-hub>=0.4.0->sentence-transformers) (4.7.1)\n",
      "Requirement already satisfied: packaging>=20.9 in c:\\users\\srika\\anaconda3\\lib\\site-packages (from huggingface-hub>=0.4.0->sentence-transformers) (23.1)\n",
      "Requirement already satisfied: sympy in c:\\users\\srika\\anaconda3\\lib\\site-packages (from torch>=1.6.0->sentence-transformers) (1.11.1)\n",
      "Requirement already satisfied: networkx in c:\\users\\srika\\anaconda3\\lib\\site-packages (from torch>=1.6.0->sentence-transformers) (3.1)\n",
      "Requirement already satisfied: jinja2 in c:\\users\\srika\\anaconda3\\lib\\site-packages (from torch>=1.6.0->sentence-transformers) (3.1.2)\n",
      "Requirement already satisfied: colorama in c:\\users\\srika\\anaconda3\\lib\\site-packages (from tqdm->sentence-transformers) (0.4.6)\n",
      "Requirement already satisfied: regex!=2019.12.17 in c:\\users\\srika\\anaconda3\\lib\\site-packages (from transformers<5.0.0,>=4.6.0->sentence-transformers) (2022.7.9)\n",
      "Requirement already satisfied: tokenizers!=0.11.3,<0.14,>=0.11.1 in c:\\users\\srika\\anaconda3\\lib\\site-packages (from transformers<5.0.0,>=4.6.0->sentence-transformers) (0.13.2)\n",
      "Requirement already satisfied: safetensors>=0.3.1 in c:\\users\\srika\\anaconda3\\lib\\site-packages (from transformers<5.0.0,>=4.6.0->sentence-transformers) (0.3.2)\n",
      "Requirement already satisfied: click in c:\\users\\srika\\anaconda3\\lib\\site-packages (from nltk->sentence-transformers) (8.0.4)\n",
      "Requirement already satisfied: joblib in c:\\users\\srika\\anaconda3\\lib\\site-packages (from nltk->sentence-transformers) (1.2.0)\n",
      "Requirement already satisfied: threadpoolctl>=2.0.0 in c:\\users\\srika\\anaconda3\\lib\\site-packages (from scikit-learn->sentence-transformers) (2.2.0)\n",
      "Collecting torch>=1.6.0 (from sentence-transformers)\n",
      "  Obtaining dependency information for torch>=1.6.0 from https://files.pythonhosted.org/packages/e4/ae/2ad8820045b6631965750435f28583e80905b8273d57cf026163b51323ee/torch-2.1.2-cp311-cp311-win_amd64.whl.metadata\n",
      "  Downloading torch-2.1.2-cp311-cp311-win_amd64.whl.metadata (26 kB)\n",
      "Requirement already satisfied: pillow!=8.3.*,>=5.3.0 in c:\\users\\srika\\anaconda3\\lib\\site-packages (from torchvision->sentence-transformers) (9.4.0)\n",
      "Requirement already satisfied: MarkupSafe>=2.0 in c:\\users\\srika\\anaconda3\\lib\\site-packages (from jinja2->torch>=1.6.0->sentence-transformers) (2.1.1)\n",
      "Requirement already satisfied: charset-normalizer<4,>=2 in c:\\users\\srika\\anaconda3\\lib\\site-packages (from requests->huggingface-hub>=0.4.0->sentence-transformers) (2.0.4)\n",
      "Requirement already satisfied: idna<4,>=2.5 in c:\\users\\srika\\anaconda3\\lib\\site-packages (from requests->huggingface-hub>=0.4.0->sentence-transformers) (3.4)\n",
      "Requirement already satisfied: urllib3<3,>=1.21.1 in c:\\users\\srika\\anaconda3\\lib\\site-packages (from requests->huggingface-hub>=0.4.0->sentence-transformers) (1.26.16)\n",
      "Requirement already satisfied: certifi>=2017.4.17 in c:\\users\\srika\\anaconda3\\lib\\site-packages (from requests->huggingface-hub>=0.4.0->sentence-transformers) (2023.7.22)\n",
      "Requirement already satisfied: mpmath>=0.19 in c:\\users\\srika\\anaconda3\\lib\\site-packages (from sympy->torch>=1.6.0->sentence-transformers) (1.3.0)\n",
      "Downloading torchvision-0.16.2-cp311-cp311-win_amd64.whl (1.1 MB)\n",
      "   ---------------------------------------- 0.0/1.1 MB ? eta -:--:--\n",
      "   ---------------------------------------  1.1/1.1 MB 36.3 MB/s eta 0:00:01\n",
      "   ---------------------------------------- 1.1/1.1 MB 24.0 MB/s eta 0:00:00\n",
      "Downloading torch-2.1.2-cp311-cp311-win_amd64.whl (192.3 MB)\n",
      "   ---------------------------------------- 0.0/192.3 MB ? eta -:--:--\n",
      "   ---------------------------------------- 0.9/192.3 MB 26.6 MB/s eta 0:00:08\n",
      "   ---------------------------------------- 1.9/192.3 MB 24.4 MB/s eta 0:00:08\n",
      "    --------------------------------------- 3.0/192.3 MB 21.1 MB/s eta 0:00:09\n",
      "    --------------------------------------- 4.3/192.3 MB 22.8 MB/s eta 0:00:09\n",
      "   - -------------------------------------- 5.5/192.3 MB 23.2 MB/s eta 0:00:09\n",
      "   - -------------------------------------- 7.0/192.3 MB 24.9 MB/s eta 0:00:08\n",
      "   - -------------------------------------- 7.9/192.3 MB 25.1 MB/s eta 0:00:08\n",
      "   - -------------------------------------- 9.4/192.3 MB 25.0 MB/s eta 0:00:08\n",
      "   -- ------------------------------------- 10.8/192.3 MB 27.3 MB/s eta 0:00:07\n",
      "   -- ------------------------------------- 12.2/192.3 MB 27.3 MB/s eta 0:00:07\n",
      "   -- ------------------------------------- 13.6/192.3 MB 27.3 MB/s eta 0:00:07\n",
      "   --- ------------------------------------ 15.0/192.3 MB 28.5 MB/s eta 0:00:07\n",
      "   --- ------------------------------------ 16.4/192.3 MB 28.4 MB/s eta 0:00:07\n",
      "   --- ------------------------------------ 17.7/192.3 MB 28.4 MB/s eta 0:00:07\n",
      "   ---- ----------------------------------- 19.3/192.3 MB 29.7 MB/s eta 0:00:06\n",
      "   ---- ----------------------------------- 20.7/192.3 MB 29.8 MB/s eta 0:00:06\n",
      "   ---- ----------------------------------- 22.2/192.3 MB 29.8 MB/s eta 0:00:06\n",
      "   ---- ----------------------------------- 23.4/192.3 MB 29.7 MB/s eta 0:00:06\n",
      "   ----- ---------------------------------- 24.8/192.3 MB 29.7 MB/s eta 0:00:06\n",
      "   ----- ---------------------------------- 25.9/192.3 MB 29.8 MB/s eta 0:00:06\n",
      "   ----- ---------------------------------- 27.2/192.3 MB 28.4 MB/s eta 0:00:06\n",
      "   ----- ---------------------------------- 28.5/192.3 MB 29.7 MB/s eta 0:00:06\n",
      "   ------ --------------------------------- 29.8/192.3 MB 28.4 MB/s eta 0:00:06\n",
      "   ------ --------------------------------- 31.0/192.3 MB 27.3 MB/s eta 0:00:06\n",
      "   ------ --------------------------------- 32.4/192.3 MB 27.3 MB/s eta 0:00:06\n",
      "   ------- -------------------------------- 33.8/192.3 MB 28.5 MB/s eta 0:00:06\n",
      "   ------- -------------------------------- 35.0/192.3 MB 27.3 MB/s eta 0:00:06\n",
      "   ------- -------------------------------- 36.4/192.3 MB 27.3 MB/s eta 0:00:06\n",
      "   ------- -------------------------------- 37.7/192.3 MB 27.3 MB/s eta 0:00:06\n",
      "   -------- ------------------------------- 39.2/192.3 MB 28.4 MB/s eta 0:00:06\n",
      "   -------- ------------------------------- 40.4/192.3 MB 28.4 MB/s eta 0:00:06\n",
      "   -------- ------------------------------- 42.0/192.3 MB 29.8 MB/s eta 0:00:06\n",
      "   --------- ------------------------------ 43.4/192.3 MB 29.8 MB/s eta 0:00:05\n",
      "   --------- ------------------------------ 44.9/192.3 MB 29.7 MB/s eta 0:00:05\n",
      "   --------- ------------------------------ 46.4/192.3 MB 31.2 MB/s eta 0:00:05\n",
      "   --------- ------------------------------ 47.8/192.3 MB 31.2 MB/s eta 0:00:05\n",
      "   ---------- ----------------------------- 49.3/192.3 MB 31.2 MB/s eta 0:00:05\n",
      "   ---------- ----------------------------- 50.7/192.3 MB 31.2 MB/s eta 0:00:05\n",
      "   ---------- ----------------------------- 52.1/192.3 MB 31.1 MB/s eta 0:00:05\n",
      "   ----------- ---------------------------- 53.4/192.3 MB 29.8 MB/s eta 0:00:05\n",
      "   ----------- ---------------------------- 54.8/192.3 MB 31.2 MB/s eta 0:00:05\n",
      "   ----------- ---------------------------- 55.8/192.3 MB 29.7 MB/s eta 0:00:05\n",
      "   ----------- ---------------------------- 57.3/192.3 MB 29.7 MB/s eta 0:00:05\n",
      "   ------------ --------------------------- 58.6/192.3 MB 28.5 MB/s eta 0:00:05\n",
      "   ------------ --------------------------- 60.0/192.3 MB 29.7 MB/s eta 0:00:05\n",
      "   ------------ --------------------------- 61.4/192.3 MB 28.4 MB/s eta 0:00:05\n",
      "   ------------- -------------------------- 62.8/192.3 MB 28.4 MB/s eta 0:00:05\n",
      "   ------------- -------------------------- 64.3/192.3 MB 28.5 MB/s eta 0:00:05\n",
      "   ------------- -------------------------- 65.5/192.3 MB 28.5 MB/s eta 0:00:05\n",
      "   ------------- -------------------------- 67.0/192.3 MB 28.5 MB/s eta 0:00:05\n",
      "   -------------- ------------------------- 68.3/192.3 MB 29.7 MB/s eta 0:00:05\n",
      "   -------------- ------------------------- 69.8/192.3 MB 29.7 MB/s eta 0:00:05\n",
      "   -------------- ------------------------- 71.2/192.3 MB 31.2 MB/s eta 0:00:04\n",
      "   --------------- ------------------------ 72.8/192.3 MB 31.2 MB/s eta 0:00:04\n",
      "   --------------- ------------------------ 74.5/192.3 MB 32.7 MB/s eta 0:00:04\n",
      "   --------------- ------------------------ 76.1/192.3 MB 34.4 MB/s eta 0:00:04\n",
      "   ---------------- ----------------------- 77.9/192.3 MB 36.3 MB/s eta 0:00:04\n",
      "   ---------------- ----------------------- 79.4/192.3 MB 34.4 MB/s eta 0:00:04\n",
      "   ---------------- ----------------------- 81.1/192.3 MB 34.6 MB/s eta 0:00:04\n",
      "   ----------------- ---------------------- 82.4/192.3 MB 34.4 MB/s eta 0:00:04\n",
      "   ----------------- ---------------------- 83.9/192.3 MB 34.4 MB/s eta 0:00:04\n",
      "   ----------------- ---------------------- 85.3/192.3 MB 32.8 MB/s eta 0:00:04\n",
      "   ------------------ --------------------- 86.9/192.3 MB 32.7 MB/s eta 0:00:04\n",
      "   ------------------ --------------------- 88.2/192.3 MB 32.7 MB/s eta 0:00:04\n",
      "   ------------------ --------------------- 90.0/192.3 MB 31.2 MB/s eta 0:00:04\n",
      "   ------------------ --------------------- 91.2/192.3 MB 29.7 MB/s eta 0:00:04\n",
      "   ------------------- -------------------- 92.9/192.3 MB 31.2 MB/s eta 0:00:04\n",
      "   ------------------- -------------------- 94.1/192.3 MB 29.7 MB/s eta 0:00:04\n",
      "   ------------------- -------------------- 95.7/192.3 MB 31.2 MB/s eta 0:00:04\n",
      "   -------------------- ------------------- 97.2/192.3 MB 29.8 MB/s eta 0:00:04\n",
      "   -------------------- ------------------- 98.7/192.3 MB 29.7 MB/s eta 0:00:04\n",
      "   -------------------- ------------------ 100.2/192.3 MB 31.2 MB/s eta 0:00:03\n",
      "   -------------------- ------------------ 101.2/192.3 MB 28.5 MB/s eta 0:00:04\n",
      "   -------------------- ------------------ 103.2/192.3 MB 32.8 MB/s eta 0:00:03\n",
      "   --------------------- ----------------- 104.8/192.3 MB 31.2 MB/s eta 0:00:03\n",
      "   --------------------- ----------------- 106.1/192.3 MB 32.7 MB/s eta 0:00:03\n",
      "   --------------------- ----------------- 106.6/192.3 MB 31.2 MB/s eta 0:00:03\n",
      "   --------------------- ----------------- 107.7/192.3 MB 28.4 MB/s eta 0:00:03\n",
      "   ---------------------- ---------------- 108.8/192.3 MB 27.3 MB/s eta 0:00:04\n",
      "   ---------------------- ---------------- 110.3/192.3 MB 27.3 MB/s eta 0:00:04\n",
      "   ---------------------- ---------------- 112.1/192.3 MB 29.7 MB/s eta 0:00:03\n",
      "   ---------------------- ---------------- 113.3/192.3 MB 27.3 MB/s eta 0:00:03\n",
      "   ----------------------- --------------- 114.7/192.3 MB 27.3 MB/s eta 0:00:03\n",
      "   ----------------------- --------------- 115.9/192.3 MB 26.2 MB/s eta 0:00:03\n",
      "   ----------------------- --------------- 117.6/192.3 MB 28.4 MB/s eta 0:00:03\n",
      "   ------------------------ -------------- 118.7/192.3 MB 31.2 MB/s eta 0:00:03\n",
      "   ------------------------ -------------- 120.0/192.3 MB 31.2 MB/s eta 0:00:03\n",
      "   ------------------------ -------------- 121.4/192.3 MB 29.7 MB/s eta 0:00:03\n",
      "   ------------------------ -------------- 122.9/192.3 MB 28.5 MB/s eta 0:00:03\n",
      "   ------------------------- ------------- 124.4/192.3 MB 31.1 MB/s eta 0:00:03\n",
      "   ------------------------- ------------- 125.9/192.3 MB 29.7 MB/s eta 0:00:03\n",
      "   ------------------------- ------------- 127.3/192.3 MB 29.7 MB/s eta 0:00:03\n",
      "   -------------------------- ------------ 128.6/192.3 MB 29.7 MB/s eta 0:00:03\n",
      "   -------------------------- ------------ 130.1/192.3 MB 31.2 MB/s eta 0:00:02\n",
      "   -------------------------- ------------ 131.5/192.3 MB 31.2 MB/s eta 0:00:02\n",
      "   -------------------------- ------------ 133.1/192.3 MB 31.2 MB/s eta 0:00:02\n",
      "   --------------------------- ----------- 134.7/192.3 MB 31.2 MB/s eta 0:00:02\n",
      "   --------------------------- ----------- 136.6/192.3 MB 32.8 MB/s eta 0:00:02\n",
      "   --------------------------- ----------- 137.8/192.3 MB 32.8 MB/s eta 0:00:02\n",
      "   ---------------------------- ---------- 139.6/192.3 MB 34.4 MB/s eta 0:00:02\n",
      "   ---------------------------- ---------- 141.3/192.3 MB 36.4 MB/s eta 0:00:02\n",
      "   ---------------------------- ---------- 142.7/192.3 MB 36.4 MB/s eta 0:00:02\n",
      "   ----------------------------- --------- 144.3/192.3 MB 34.4 MB/s eta 0:00:02\n",
      "   ----------------------------- --------- 145.6/192.3 MB 34.4 MB/s eta 0:00:02\n",
      "   ----------------------------- --------- 147.1/192.3 MB 32.7 MB/s eta 0:00:02\n",
      "   ------------------------------ -------- 148.4/192.3 MB 32.7 MB/s eta 0:00:02\n",
      "   ------------------------------ -------- 149.8/192.3 MB 31.2 MB/s eta 0:00:02\n",
      "   ------------------------------ -------- 151.1/192.3 MB 29.8 MB/s eta 0:00:02\n",
      "   ------------------------------ -------- 152.4/192.3 MB 29.7 MB/s eta 0:00:02\n",
      "   ------------------------------- ------- 153.7/192.3 MB 28.5 MB/s eta 0:00:02\n",
      "   ------------------------------- ------- 155.4/192.3 MB 31.2 MB/s eta 0:00:02\n",
      "   ------------------------------- ------- 156.8/192.3 MB 29.7 MB/s eta 0:00:02\n",
      "   -------------------------------- ------ 158.2/192.3 MB 29.7 MB/s eta 0:00:02\n",
      "   -------------------------------- ------ 159.7/192.3 MB 29.7 MB/s eta 0:00:02\n",
      "   -------------------------------- ------ 161.1/192.3 MB 31.2 MB/s eta 0:00:02\n",
      "   -------------------------------- ------ 162.6/192.3 MB 31.2 MB/s eta 0:00:01\n",
      "   --------------------------------- ----- 164.4/192.3 MB 31.2 MB/s eta 0:00:01\n",
      "   --------------------------------- ----- 166.0/192.3 MB 32.8 MB/s eta 0:00:01\n",
      "   ---------------------------------- ---- 167.8/192.3 MB 34.4 MB/s eta 0:00:01\n",
      "   ---------------------------------- ---- 169.7/192.3 MB 34.6 MB/s eta 0:00:01\n",
      "   ---------------------------------- ---- 170.9/192.3 MB 34.4 MB/s eta 0:00:01\n",
      "   ----------------------------------- --- 172.8/192.3 MB 36.3 MB/s eta 0:00:01\n",
      "   ----------------------------------- --- 174.4/192.3 MB 36.4 MB/s eta 0:00:01\n",
      "   ----------------------------------- --- 176.1/192.3 MB 36.4 MB/s eta 0:00:01\n",
      "   ------------------------------------ -- 177.6/192.3 MB 36.4 MB/s eta 0:00:01\n",
      "   ------------------------------------ -- 179.0/192.3 MB 34.4 MB/s eta 0:00:01\n",
      "   ------------------------------------ -- 180.5/192.3 MB 32.7 MB/s eta 0:00:01\n",
      "   ------------------------------------ -- 181.6/192.3 MB 31.2 MB/s eta 0:00:01\n",
      "   ------------------------------------- - 183.2/192.3 MB 31.2 MB/s eta 0:00:01\n",
      "   ------------------------------------- - 184.5/192.3 MB 31.1 MB/s eta 0:00:01\n",
      "   ------------------------------------- - 186.1/192.3 MB 28.5 MB/s eta 0:00:01\n",
      "   ------------------------------------- - 186.9/192.3 MB 28.5 MB/s eta 0:00:01\n",
      "   --------------------------------------  188.5/192.3 MB 28.5 MB/s eta 0:00:01\n",
      "   --------------------------------------  189.8/192.3 MB 28.5 MB/s eta 0:00:01\n",
      "   --------------------------------------  191.4/192.3 MB 31.2 MB/s eta 0:00:01\n",
      "   --------------------------------------  192.3/192.3 MB 31.2 MB/s eta 0:00:01\n",
      "   --------------------------------------  192.3/192.3 MB 31.2 MB/s eta 0:00:01\n",
      "   --------------------------------------  192.3/192.3 MB 31.2 MB/s eta 0:00:01\n",
      "   --------------------------------------  192.3/192.3 MB 31.2 MB/s eta 0:00:01\n",
      "   --------------------------------------  192.3/192.3 MB 31.2 MB/s eta 0:00:01\n",
      "   --------------------------------------  192.3/192.3 MB 31.2 MB/s eta 0:00:01\n",
      "   --------------------------------------  192.3/192.3 MB 31.2 MB/s eta 0:00:01\n",
      "   --------------------------------------  192.3/192.3 MB 31.2 MB/s eta 0:00:01\n",
      "   --------------------------------------  192.3/192.3 MB 31.2 MB/s eta 0:00:01\n",
      "   --------------------------------------  192.3/192.3 MB 31.2 MB/s eta 0:00:01\n",
      "   --------------------------------------  192.3/192.3 MB 31.2 MB/s eta 0:00:01\n",
      "   --------------------------------------  192.3/192.3 MB 31.2 MB/s eta 0:00:01\n",
      "   --------------------------------------  192.3/192.3 MB 31.2 MB/s eta 0:00:01\n",
      "   --------------------------------------  192.3/192.3 MB 31.2 MB/s eta 0:00:01\n",
      "   --------------------------------------  192.3/192.3 MB 31.2 MB/s eta 0:00:01\n",
      "   --------------------------------------  192.3/192.3 MB 31.2 MB/s eta 0:00:01\n",
      "   --------------------------------------  192.3/192.3 MB 31.2 MB/s eta 0:00:01\n",
      "   ---------------------------------------- 192.3/192.3 MB 6.7 MB/s eta 0:00:00\n",
      "Installing collected packages: sentencepiece, torch, torchvision, sentence-transformers\n",
      "  Attempting uninstall: torch\n",
      "    Found existing installation: torch 2.1.1\n",
      "    Uninstalling torch-2.1.1:\n",
      "      Successfully uninstalled torch-2.1.1\n",
      "Successfully installed sentence-transformers-2.2.2 sentencepiece-0.1.99 torch-2.1.2 torchvision-0.16.2\n"
     ]
    }
   ],
   "source": [
    "!pip install sentence-transformers"
   ]
  },
  {
   "cell_type": "code",
   "execution_count": 4,
   "id": "6423fd64",
   "metadata": {},
   "outputs": [
    {
     "data": {
      "text/html": [
       "<div>\n",
       "<style scoped>\n",
       "    .dataframe tbody tr th:only-of-type {\n",
       "        vertical-align: middle;\n",
       "    }\n",
       "\n",
       "    .dataframe tbody tr th {\n",
       "        vertical-align: top;\n",
       "    }\n",
       "\n",
       "    .dataframe thead th {\n",
       "        text-align: right;\n",
       "    }\n",
       "</style>\n",
       "<table border=\"1\" class=\"dataframe\">\n",
       "  <thead>\n",
       "    <tr style=\"text-align: right;\">\n",
       "      <th></th>\n",
       "      <th>Review</th>\n",
       "      <th>Rating</th>\n",
       "    </tr>\n",
       "  </thead>\n",
       "  <tbody>\n",
       "    <tr>\n",
       "      <th>0</th>\n",
       "      <td>This dress is perfection! so pretty and flatte...</td>\n",
       "      <td>3.0</td>\n",
       "    </tr>\n",
       "    <tr>\n",
       "      <th>1</th>\n",
       "      <td>A flattering, super cozy coat.  will work well...</td>\n",
       "      <td>4.0</td>\n",
       "    </tr>\n",
       "    <tr>\n",
       "      <th>2</th>\n",
       "      <td>If this product was in petite, i would get the...</td>\n",
       "      <td>5.0</td>\n",
       "    </tr>\n",
       "    <tr>\n",
       "      <th>3</th>\n",
       "      <td>This is a nice choice for holiday gatherings. ...</td>\n",
       "      <td>5.0</td>\n",
       "    </tr>\n",
       "    <tr>\n",
       "      <th>4</th>\n",
       "      <td>I love the look and feel of this tulle dress.</td>\n",
       "      <td>5.0</td>\n",
       "    </tr>\n",
       "  </tbody>\n",
       "</table>\n",
       "</div>"
      ],
      "text/plain": [
       "                                              Review  Rating\n",
       "0  This dress is perfection! so pretty and flatte...     3.0\n",
       "1  A flattering, super cozy coat.  will work well...     4.0\n",
       "2  If this product was in petite, i would get the...     5.0\n",
       "3  This is a nice choice for holiday gatherings. ...     5.0\n",
       "4      I love the look and feel of this tulle dress.     5.0"
      ]
     },
     "execution_count": 4,
     "metadata": {},
     "output_type": "execute_result"
    }
   ],
   "source": [
    "#Loading a sample dataset with 5 reviews\n",
    "import pandas as pd\n",
    "import numpy as np\n",
    "df=pd.read_csv('Reviews.csv')\n",
    "df=df.head(5)\n",
    "df.head()"
   ]
  },
  {
   "cell_type": "code",
   "execution_count": 6,
   "id": "82f23d65",
   "metadata": {},
   "outputs": [
    {
     "data": {
      "application/vnd.jupyter.widget-view+json": {
       "model_id": "36e5559f5a2a4eb3bb1af09e79e07d81",
       "version_major": 2,
       "version_minor": 0
      },
      "text/plain": [
       "Downloading .gitattributes:   0%|          | 0.00/690 [00:00<?, ?B/s]"
      ]
     },
     "metadata": {},
     "output_type": "display_data"
    },
    {
     "data": {
      "application/vnd.jupyter.widget-view+json": {
       "model_id": "35f274f1c04149deab21a4e2e4bbf5e1",
       "version_major": 2,
       "version_minor": 0
      },
      "text/plain": [
       "Downloading 1_Pooling/config.json:   0%|          | 0.00/190 [00:00<?, ?B/s]"
      ]
     },
     "metadata": {},
     "output_type": "display_data"
    },
    {
     "data": {
      "application/vnd.jupyter.widget-view+json": {
       "model_id": "a75b22d08a28418fb5146d8da02d1b95",
       "version_major": 2,
       "version_minor": 0
      },
      "text/plain": [
       "Downloading README.md:   0%|          | 0.00/3.70k [00:00<?, ?B/s]"
      ]
     },
     "metadata": {},
     "output_type": "display_data"
    },
    {
     "data": {
      "application/vnd.jupyter.widget-view+json": {
       "model_id": "1b8b28f4cfa640409858efac20c4eb2a",
       "version_major": 2,
       "version_minor": 0
      },
      "text/plain": [
       "Downloading config.json:   0%|          | 0.00/594 [00:00<?, ?B/s]"
      ]
     },
     "metadata": {},
     "output_type": "display_data"
    },
    {
     "data": {
      "application/vnd.jupyter.widget-view+json": {
       "model_id": "ffb90a27e33d48bfa0290060caba93f6",
       "version_major": 2,
       "version_minor": 0
      },
      "text/plain": [
       "Downloading (…)ce_transformers.json:   0%|          | 0.00/122 [00:00<?, ?B/s]"
      ]
     },
     "metadata": {},
     "output_type": "display_data"
    },
    {
     "data": {
      "application/vnd.jupyter.widget-view+json": {
       "model_id": "d0cda4bc99ce4f3aa7a270bd22d0351e",
       "version_major": 2,
       "version_minor": 0
      },
      "text/plain": [
       "Downloading pytorch_model.bin:   0%|          | 0.00/438M [00:00<?, ?B/s]"
      ]
     },
     "metadata": {},
     "output_type": "display_data"
    },
    {
     "data": {
      "application/vnd.jupyter.widget-view+json": {
       "model_id": "78b1cf927bb74c4788d22e1cd5e2b629",
       "version_major": 2,
       "version_minor": 0
      },
      "text/plain": [
       "Downloading (…)nce_bert_config.json:   0%|          | 0.00/53.0 [00:00<?, ?B/s]"
      ]
     },
     "metadata": {},
     "output_type": "display_data"
    },
    {
     "data": {
      "application/vnd.jupyter.widget-view+json": {
       "model_id": "ea54bde5344f4c60a5734b2f92852757",
       "version_major": 2,
       "version_minor": 0
      },
      "text/plain": [
       "Downloading (…)cial_tokens_map.json:   0%|          | 0.00/239 [00:00<?, ?B/s]"
      ]
     },
     "metadata": {},
     "output_type": "display_data"
    },
    {
     "data": {
      "application/vnd.jupyter.widget-view+json": {
       "model_id": "f8db20e3648c4698a372d42ba577eefa",
       "version_major": 2,
       "version_minor": 0
      },
      "text/plain": [
       "Downloading tokenizer.json:   0%|          | 0.00/466k [00:00<?, ?B/s]"
      ]
     },
     "metadata": {},
     "output_type": "display_data"
    },
    {
     "data": {
      "application/vnd.jupyter.widget-view+json": {
       "model_id": "a0c70151828f4d34aa7f706ce75420f2",
       "version_major": 2,
       "version_minor": 0
      },
      "text/plain": [
       "Downloading tokenizer_config.json:   0%|          | 0.00/1.19k [00:00<?, ?B/s]"
      ]
     },
     "metadata": {},
     "output_type": "display_data"
    },
    {
     "data": {
      "application/vnd.jupyter.widget-view+json": {
       "model_id": "73dcbb5a884949c9906ab2a139b449c3",
       "version_major": 2,
       "version_minor": 0
      },
      "text/plain": [
       "Downloading vocab.txt:   0%|          | 0.00/232k [00:00<?, ?B/s]"
      ]
     },
     "metadata": {},
     "output_type": "display_data"
    },
    {
     "data": {
      "application/vnd.jupyter.widget-view+json": {
       "model_id": "7d6a7c8455ea4ebb95f8c31435df5e06",
       "version_major": 2,
       "version_minor": 0
      },
      "text/plain": [
       "Downloading modules.json:   0%|          | 0.00/229 [00:00<?, ?B/s]"
      ]
     },
     "metadata": {},
     "output_type": "display_data"
    }
   ],
   "source": [
    "from sentence_transformers import SentenceTransformer\n",
    "text = df['Review']\n",
    "encoder = SentenceTransformer(\"paraphrase-mpnet-base-v2\")\n",
    "vectors = encoder.encode(text)"
   ]
  },
  {
   "cell_type": "code",
   "execution_count": 7,
   "id": "f108fe76",
   "metadata": {},
   "outputs": [
    {
     "data": {
      "text/plain": [
       "array([[-0.06217552,  0.07378877, -0.07448871, ...,  0.07027042,\n",
       "         0.01796084, -0.09390768],\n",
       "       [-0.12158108, -0.15971243,  0.0704374 , ...,  0.10647692,\n",
       "        -0.06763223,  0.03161925],\n",
       "       [ 0.24184246, -0.10951386, -0.04839725, ...,  0.09273516,\n",
       "        -0.14525726, -0.08345813],\n",
       "       [-0.11661569, -0.18936978, -0.01969846, ...,  0.22593035,\n",
       "         0.05131904, -0.03293313],\n",
       "       [-0.02752496,  0.03535304, -0.04940617, ...,  0.15104961,\n",
       "         0.12293017, -0.02794872]], dtype=float32)"
      ]
     },
     "execution_count": 7,
     "metadata": {},
     "output_type": "execute_result"
    }
   ],
   "source": [
    "vectors"
   ]
  },
  {
   "cell_type": "code",
   "execution_count": 9,
   "id": "f3de4e35",
   "metadata": {},
   "outputs": [
    {
     "data": {
      "text/plain": [
       "768"
      ]
     },
     "execution_count": 9,
     "metadata": {},
     "output_type": "execute_result"
    }
   ],
   "source": [
    "len(vectors[0])"
   ]
  },
  {
   "cell_type": "code",
   "execution_count": 11,
   "id": "5b0112c9",
   "metadata": {},
   "outputs": [],
   "source": [
    "import faiss\n",
    "\n",
    "vector_dimensions = vectors.shape[1]\n",
    "index = faiss.IndexFlatL2(vector_dimensions)\n",
    "faiss.normalize_L2(vectors)\n",
    "index.add(vectors)"
   ]
  },
  {
   "cell_type": "code",
   "execution_count": 12,
   "id": "0b9546dd",
   "metadata": {},
   "outputs": [
    {
     "data": {
      "text/plain": [
       "<faiss.swigfaiss.IndexFlatL2; proxy of <Swig Object of type 'faiss::IndexFlatL2 *' at 0x00000225B74992F0> >"
      ]
     },
     "execution_count": 12,
     "metadata": {},
     "output_type": "execute_result"
    }
   ],
   "source": [
    "index"
   ]
  },
  {
   "cell_type": "code",
   "execution_count": 13,
   "id": "87247982",
   "metadata": {},
   "outputs": [],
   "source": [
    "search_text = 'How good is the quality of the dress'\n",
    "search_vector = encoder.encode(search_text)\n",
    "_vector = np.array([search_vector])\n",
    "faiss.normalize_L2(_vector)"
   ]
  },
  {
   "cell_type": "code",
   "execution_count": 14,
   "id": "53cb789a",
   "metadata": {},
   "outputs": [
    {
     "data": {
      "text/plain": [
       "array([[ 2.07733717e-02,  7.57977813e-02,  9.20572598e-03,\n",
       "         3.13423686e-02, -3.74763831e-02, -2.62014680e-02,\n",
       "        -1.56621411e-02,  1.28351431e-02, -3.46761458e-02,\n",
       "        -2.34523732e-02,  1.47250423e-03, -2.84027285e-03,\n",
       "         3.27750705e-02,  2.57291924e-02, -9.29515343e-03,\n",
       "        -2.89442148e-02, -1.74799804e-02,  5.08571491e-02,\n",
       "        -2.53807846e-02,  2.91293431e-02,  2.63922266e-04,\n",
       "        -2.63975207e-02,  1.06971944e-02, -3.09604919e-03,\n",
       "        -5.32037392e-03, -1.54564651e-02,  2.20694835e-03,\n",
       "        -1.02199498e-03, -3.45763527e-02,  4.02387008e-02,\n",
       "         5.11127263e-02, -3.12978029e-02, -1.25781428e-02,\n",
       "        -6.43045679e-02,  1.70842577e-02, -2.97773164e-02,\n",
       "         2.19105631e-02, -5.20133823e-02,  8.44690669e-03,\n",
       "         4.14445512e-02,  2.90970523e-02,  2.59141419e-02,\n",
       "        -1.73868798e-02, -1.21797090e-02,  2.70887371e-02,\n",
       "        -3.54617313e-02, -1.27860513e-02,  9.06199291e-02,\n",
       "        -3.17766070e-02,  5.73248137e-03, -1.59371309e-02,\n",
       "        -1.42893158e-02, -3.46088856e-02,  6.97224960e-03,\n",
       "        -1.84464105e-03,  2.61988994e-02, -2.43744887e-02,\n",
       "        -3.52117270e-02,  7.27026910e-02,  1.49475681e-02,\n",
       "        -1.37441829e-02, -3.22818011e-02, -3.72193605e-02,\n",
       "        -1.61567833e-02, -1.36165703e-02, -1.75485723e-02,\n",
       "         7.97648132e-02,  3.21135297e-02, -3.48785035e-02,\n",
       "         1.79063566e-02,  8.86770785e-02,  4.65352312e-02,\n",
       "        -6.88888319e-03,  3.45594473e-02,  4.65274267e-02,\n",
       "        -6.87829638e-03,  6.07782649e-03, -9.82466787e-02,\n",
       "         1.69144757e-02,  5.46679646e-03, -5.35238646e-02,\n",
       "         8.43067840e-03, -4.53036092e-02,  4.27036546e-02,\n",
       "         2.26985663e-03,  1.79480936e-04, -1.15380287e-02,\n",
       "         1.39522995e-03, -2.80188974e-02, -5.10676242e-02,\n",
       "        -6.63161278e-02,  1.62392168e-03, -3.50351296e-02,\n",
       "        -8.92318878e-03,  1.94647070e-02,  7.50362687e-03,\n",
       "         5.83020560e-02,  2.39843763e-02,  4.01202030e-02,\n",
       "        -1.39619922e-02,  1.63474549e-02,  6.48889691e-02,\n",
       "         5.63513488e-02, -4.82549034e-02, -1.54227242e-02,\n",
       "         1.31126940e-02,  1.10900076e-02, -6.19105436e-02,\n",
       "        -2.67378353e-02, -4.40838560e-03,  6.33343402e-03,\n",
       "         5.08157946e-02,  4.50216159e-02, -3.38861439e-03,\n",
       "        -4.41700742e-02, -4.42287810e-02,  2.36893427e-02,\n",
       "        -4.60438170e-02, -2.63014268e-02,  5.44256382e-02,\n",
       "        -5.84379258e-03,  5.47082582e-03, -2.11740993e-02,\n",
       "         1.93467978e-02,  1.02513153e-02, -9.30559356e-03,\n",
       "        -5.54434136e-02,  3.45464125e-02, -9.36857716e-04,\n",
       "        -8.08571652e-03, -1.62129961e-02, -6.39605075e-02,\n",
       "         6.69146106e-02,  5.35299182e-02,  1.37736155e-02,\n",
       "         1.58080868e-02, -4.58223112e-02,  3.47827673e-02,\n",
       "        -5.82738174e-03, -1.91139542e-02,  1.74145028e-02,\n",
       "        -1.16516668e-02,  8.20663571e-03,  3.54752387e-03,\n",
       "        -7.19201714e-02, -1.51642468e-02,  2.83113848e-02,\n",
       "         2.74312799e-03, -8.06961861e-03, -4.51283203e-03,\n",
       "         3.16504538e-02, -5.44814616e-02,  9.83041991e-03,\n",
       "         1.52591942e-02, -5.79035515e-03, -1.13893384e-02,\n",
       "         4.53272015e-02, -8.69221613e-03, -1.08248158e-03,\n",
       "         3.42319086e-02, -1.06415860e-02, -4.30619307e-02,\n",
       "        -5.15460819e-02, -9.55079496e-03, -1.71135273e-02,\n",
       "        -3.32946330e-02, -4.67803739e-02,  1.43533349e-02,\n",
       "         5.58818094e-02, -1.36394883e-02,  3.48067619e-02,\n",
       "         3.69209051e-02, -3.63269299e-02,  8.18660706e-02,\n",
       "         1.05787758e-02, -9.67242420e-02,  1.14640005e-01,\n",
       "         3.43639916e-03, -2.85380688e-02,  2.51266304e-02,\n",
       "         2.45247800e-02, -4.06494970e-03, -1.42570278e-02,\n",
       "         2.19037402e-02,  6.68280348e-02, -1.58424117e-02,\n",
       "        -2.74256878e-02, -8.67467225e-02, -1.59018245e-02,\n",
       "        -5.02443016e-02, -1.50049627e-02, -1.18413521e-02,\n",
       "        -7.77355628e-03,  3.03496942e-02, -2.42343992e-02,\n",
       "        -2.93642981e-03, -1.97324585e-02, -6.97260126e-02,\n",
       "         1.00135533e-02,  4.87173535e-03, -3.86702791e-02,\n",
       "        -4.35634032e-02, -6.20579161e-03,  8.19497854e-02,\n",
       "        -4.56062034e-02,  2.53724605e-02,  7.99709335e-02,\n",
       "        -7.28593813e-03,  1.70878042e-02, -9.86877177e-03,\n",
       "         1.19684309e-01, -3.47190611e-02,  2.53126603e-02,\n",
       "         1.61432344e-02,  1.15993498e-02,  2.34860796e-02,\n",
       "         9.71795339e-03, -1.00338673e-02, -1.36421546e-02,\n",
       "         6.88040629e-03,  4.65345150e-03,  4.87180576e-02,\n",
       "        -3.33262011e-02, -2.56840605e-02,  2.18609646e-02,\n",
       "         3.76313962e-02,  3.75332683e-02, -4.57924157e-02,\n",
       "         1.57985426e-02,  1.46351056e-02, -1.33957737e-03,\n",
       "        -1.42763853e-02,  4.36776355e-02,  3.25677916e-02,\n",
       "         1.83081735e-04, -1.58004910e-02, -1.10477693e-02,\n",
       "         7.36209005e-02, -1.61016528e-02, -5.92016838e-02,\n",
       "        -3.72527093e-02, -3.16344313e-02, -3.49193476e-02,\n",
       "         1.67952310e-02,  1.01862485e-02,  1.12397205e-02,\n",
       "         4.95275594e-02,  5.48244966e-03, -4.45954129e-02,\n",
       "        -2.51025590e-03,  1.40497955e-02,  3.20461243e-02,\n",
       "        -3.71028320e-03, -4.96578142e-02, -1.00911958e-02,\n",
       "        -1.96693670e-02,  1.93851441e-02,  3.05146235e-03,\n",
       "         4.98219207e-02, -5.67878783e-02,  3.78203914e-02,\n",
       "        -1.24970609e-02,  4.21705022e-02, -2.59527355e-03,\n",
       "         4.63936441e-02, -2.98272688e-02,  2.44658291e-02,\n",
       "        -6.39011711e-02, -1.25725244e-04,  5.91544574e-03,\n",
       "        -3.43228206e-02, -3.64823043e-02, -4.36258279e-02,\n",
       "        -2.42657568e-02,  3.49232629e-02, -1.53328767e-02,\n",
       "         2.29546037e-02, -9.82958917e-03, -4.08263318e-02,\n",
       "         3.34683247e-03,  4.26835418e-02, -4.13290411e-02,\n",
       "        -2.27853470e-02,  1.58226546e-02,  8.68781470e-04,\n",
       "        -7.51154823e-03,  1.89894028e-02,  3.12231407e-02,\n",
       "        -2.96197124e-02,  3.79191786e-02,  5.00601009e-02,\n",
       "         5.18686790e-03,  1.90700963e-02, -7.37408549e-02,\n",
       "        -3.08547970e-02, -1.83087625e-02,  6.00041123e-03,\n",
       "         3.17569599e-02,  7.07508705e-04, -1.13364279e-01,\n",
       "        -8.54120124e-03, -2.30913032e-02, -1.66965071e-02,\n",
       "        -3.42235677e-02, -4.00817245e-02,  4.48219515e-02,\n",
       "        -4.80071362e-03, -1.90981813e-02,  2.22207103e-02,\n",
       "        -3.60310487e-02, -7.35072093e-03, -2.12954693e-02,\n",
       "         7.17510795e-03,  1.12939076e-02,  1.20419953e-02,\n",
       "        -4.99628158e-03,  6.48111328e-02,  1.23851784e-01,\n",
       "         5.03352610e-03,  1.15445808e-01,  1.64790805e-02,\n",
       "         1.29448241e-02, -1.19839348e-02,  7.79563608e-03,\n",
       "        -2.68128002e-03,  1.33480402e-02,  2.99281627e-02,\n",
       "         2.47867517e-02, -3.33255343e-02,  2.52171652e-03,\n",
       "        -1.24566844e-02, -1.14995413e-01,  2.96120141e-02,\n",
       "         2.39524320e-02, -2.88785677e-02,  1.41617004e-02,\n",
       "        -7.26663927e-03,  2.07140967e-02,  2.74334801e-04,\n",
       "         5.03092781e-02, -2.64040437e-02, -2.88485549e-02,\n",
       "         4.17615660e-02,  6.70580985e-03, -4.59739938e-02,\n",
       "         1.30349156e-02, -5.56189232e-02,  5.90076111e-02,\n",
       "         5.13609089e-02,  1.68284017e-03, -1.19604371e-01,\n",
       "         6.29440844e-02, -2.64256261e-02, -5.18816570e-03,\n",
       "        -5.90400817e-03,  1.41362799e-02, -4.23517525e-02,\n",
       "         2.00589933e-02, -1.37895532e-02, -9.83954221e-03,\n",
       "         5.39966896e-02, -2.74185147e-02, -3.78577746e-02,\n",
       "         2.01353040e-02, -4.62277349e-05, -3.64051275e-02,\n",
       "         1.23442505e-02, -1.76460128e-02,  9.65545978e-03,\n",
       "         2.20380034e-02,  8.98613594e-03, -1.11686438e-02,\n",
       "         1.76101197e-02, -1.16666183e-02, -1.79088302e-02,\n",
       "        -3.32165360e-02,  2.13015452e-02,  4.73979786e-02,\n",
       "         2.93668434e-02,  1.32747004e-02, -1.37455193e-02,\n",
       "         4.68729623e-02,  4.74696234e-02, -1.05185364e-03,\n",
       "         1.42164025e-02,  3.76269519e-02, -1.23483436e-02,\n",
       "         2.65011434e-02,  3.45706241e-03, -2.11452153e-02,\n",
       "        -3.12230922e-02,  7.97180459e-03, -3.22748572e-02,\n",
       "         6.84234723e-02,  3.47839147e-02,  1.88360121e-02,\n",
       "         5.94194345e-02,  2.93584284e-03, -1.50418086e-02,\n",
       "         9.27408785e-03, -2.14388631e-02, -2.01692544e-02,\n",
       "        -2.98339855e-02,  4.07255962e-02, -3.23662581e-03,\n",
       "         4.41078506e-02, -2.06449535e-02,  4.17769849e-02,\n",
       "        -2.97619868e-02, -5.02791777e-02,  1.28938374e-03,\n",
       "        -1.55942161e-02, -5.34840114e-02,  2.91579030e-02,\n",
       "         2.61990614e-02,  1.64887384e-02,  6.30076369e-03,\n",
       "        -1.59581623e-03, -3.50442082e-02,  6.41019270e-02,\n",
       "         1.55335115e-02,  5.33116683e-02, -1.04679637e-01,\n",
       "        -2.08654702e-02,  1.49149913e-02, -1.00960834e-02,\n",
       "        -2.06336137e-02, -5.47366543e-03,  2.88009625e-02,\n",
       "         1.58825349e-02, -3.91733460e-02, -3.60411890e-02,\n",
       "         1.84720624e-02,  2.44162995e-02, -5.27962260e-02,\n",
       "        -2.99222041e-02,  1.85413398e-02,  1.75772831e-02,\n",
       "        -3.81949432e-02, -3.96492407e-02,  2.76645403e-02,\n",
       "        -7.30904518e-03,  4.24608253e-02, -4.63857688e-02,\n",
       "        -5.51831014e-02, -2.65754238e-02,  6.44974411e-04,\n",
       "        -4.21941876e-02, -1.61067843e-02,  3.26877832e-02,\n",
       "         2.35133171e-02, -1.40106343e-02,  1.23813143e-02,\n",
       "         7.71336257e-02, -7.00176181e-03, -4.71046604e-02,\n",
       "        -8.55958462e-02,  3.83888893e-02,  1.81584898e-02,\n",
       "        -2.81518768e-03,  7.18383119e-02,  1.42414317e-01,\n",
       "         6.92854868e-03, -2.61005070e-02, -1.47886677e-02,\n",
       "        -9.44292992e-02, -6.18898720e-02,  5.81099987e-02,\n",
       "        -2.13427618e-02,  4.50974423e-03, -7.88484961e-02,\n",
       "         6.45730505e-03, -6.18058955e-03,  2.33626515e-02,\n",
       "         3.91213745e-02,  2.82094385e-02, -3.67567837e-02,\n",
       "         7.02265128e-02, -5.81617318e-02,  8.84329714e-03,\n",
       "         2.33044364e-02, -1.32726142e-02, -3.58430261e-04,\n",
       "         6.72603548e-02,  4.13670801e-02,  1.02562830e-02,\n",
       "        -2.24213824e-02, -2.22233846e-03,  2.75102630e-02,\n",
       "        -1.59845240e-02, -6.86189309e-02, -1.70331188e-02,\n",
       "        -4.47403267e-03, -4.47891187e-03,  1.05573358e-02,\n",
       "         1.98679194e-02, -2.24650558e-02, -1.99477505e-02,\n",
       "        -1.22563355e-02, -9.09650475e-02, -1.39364852e-02,\n",
       "        -2.65737809e-02,  5.63629845e-04, -6.14192970e-02,\n",
       "        -1.59509480e-02,  2.62308978e-02, -1.99851803e-02,\n",
       "         6.39513060e-02,  2.86528317e-04,  4.01656181e-02,\n",
       "         1.65608376e-02,  7.12827072e-02,  1.70963425e-02,\n",
       "        -4.24867421e-02, -3.66300009e-02, -6.44218689e-03,\n",
       "        -7.45934844e-02, -1.64309163e-02,  4.00202274e-02,\n",
       "         3.48490439e-02, -1.68903247e-02, -1.02092149e-02,\n",
       "         5.07274792e-02,  1.78917442e-02,  2.63349246e-02,\n",
       "         3.53806280e-02, -1.91161060e-03, -1.50054246e-02,\n",
       "        -3.85175496e-02,  3.95702571e-02, -9.41589300e-04,\n",
       "        -4.64349613e-02, -1.85447205e-02,  8.98010284e-03,\n",
       "        -3.38243134e-02,  8.24222788e-02, -4.28979993e-02,\n",
       "        -3.90080288e-02, -9.47735179e-03, -6.24958947e-02,\n",
       "        -4.28753197e-02, -1.04616107e-02,  5.18396161e-02,\n",
       "         8.53866339e-03,  9.39920917e-03,  5.42939361e-03,\n",
       "        -3.01785767e-03, -1.88723020e-03,  2.80726291e-02,\n",
       "         1.26941353e-01,  2.63788621e-03, -6.55970052e-02,\n",
       "         4.90748398e-02, -6.96395151e-03,  1.70148369e-02,\n",
       "        -1.33178672e-02, -4.15095389e-02,  6.81358948e-02,\n",
       "         7.33210845e-03,  3.38873081e-02,  1.46331573e-02,\n",
       "         2.19016708e-02, -1.32992361e-02, -1.14851156e-02,\n",
       "        -5.47549408e-03, -3.84044759e-02,  2.46615428e-02,\n",
       "         5.41164400e-03, -4.24653385e-03,  5.14654852e-02,\n",
       "         3.45222726e-02, -1.98167413e-02,  8.86056758e-03,\n",
       "         6.81023896e-02, -1.21543556e-02, -2.94103827e-02,\n",
       "        -3.28854099e-02, -2.67423503e-02, -9.44443140e-03,\n",
       "         9.42860823e-03,  6.32970477e-04,  1.29748629e-02,\n",
       "        -1.09925484e-02, -2.12294050e-02,  8.26277286e-02,\n",
       "        -1.05860401e-02,  7.56490626e-04, -1.09211903e-03,\n",
       "         4.23901860e-04,  1.91181973e-02, -1.01868454e-02,\n",
       "         8.97176843e-03,  1.11407302e-02, -9.66316182e-03,\n",
       "        -3.76056023e-02, -3.82352131e-03,  4.38147299e-02,\n",
       "        -2.28869841e-02,  1.43766254e-02, -4.55600256e-03,\n",
       "        -7.08736703e-02,  1.20968428e-02, -2.88082492e-02,\n",
       "         1.40910468e-03, -3.76823246e-02, -4.23936285e-02,\n",
       "        -2.67815590e-02, -3.17650549e-02,  2.40403786e-02,\n",
       "        -3.06268111e-02,  4.67013977e-02, -1.15470933e-02,\n",
       "         2.39904551e-03,  9.32089332e-03,  2.44183913e-02,\n",
       "        -1.26877194e-02,  1.01801043e-03,  1.91298884e-03,\n",
       "        -3.94338183e-02, -6.76874164e-03, -5.29310247e-03,\n",
       "        -5.09948023e-02, -1.91025194e-02, -2.80761551e-02,\n",
       "         6.67932779e-02, -2.06286572e-02,  2.17459053e-02,\n",
       "         2.73887459e-02,  1.20034292e-02,  4.27098572e-02,\n",
       "         8.20831582e-03, -7.63144018e-03, -9.60263237e-03,\n",
       "        -3.51104923e-02, -8.50240067e-02,  3.43085304e-02,\n",
       "        -1.49744493e-03,  1.01495823e-02,  1.49311246e-02,\n",
       "        -2.66082771e-02, -3.53283435e-02,  1.86927952e-02,\n",
       "        -3.61840194e-03,  7.60923550e-02,  1.16345668e-02,\n",
       "         1.74037192e-03,  3.77514325e-02, -1.22277569e-02,\n",
       "         1.97662730e-02, -1.20825386e-02, -6.29883818e-03,\n",
       "        -7.15878308e-02, -2.24975739e-02, -1.55036673e-02,\n",
       "         1.11669889e-02, -1.07216174e-02, -2.98444945e-02,\n",
       "         5.52258678e-02, -2.78031267e-02,  6.51994580e-03,\n",
       "        -2.34980527e-02, -4.17462327e-02,  4.31934074e-02,\n",
       "        -1.21256821e-02, -5.87110743e-02, -3.00580706e-03,\n",
       "        -3.65342721e-02,  1.49322040e-02, -4.79032509e-02,\n",
       "        -5.18295802e-02,  1.26038315e-02, -1.12373009e-02,\n",
       "        -4.15946497e-03, -5.11052087e-03,  2.93287598e-02,\n",
       "         1.28031708e-02, -2.78993836e-03,  4.26654965e-02,\n",
       "         3.14109772e-02, -3.01691052e-02, -2.51442101e-02,\n",
       "         3.20812874e-02,  5.83596677e-02, -4.59641702e-02,\n",
       "         1.35782398e-02,  3.55990715e-02,  3.00459005e-02,\n",
       "         6.13005012e-02, -9.38300451e-04,  5.61343692e-03,\n",
       "        -1.03492104e-02,  2.26045819e-03,  3.59132849e-02,\n",
       "        -1.05071738e-02,  2.86301803e-02, -2.27576382e-02,\n",
       "         2.67256573e-02, -4.27779322e-03, -6.40537068e-02,\n",
       "         1.88308768e-02,  2.41767652e-02,  2.23971736e-02,\n",
       "         1.73518714e-03,  6.35194182e-02, -2.98789293e-02,\n",
       "         4.31394130e-02, -4.34360728e-02, -3.09018511e-02,\n",
       "         1.08042881e-02, -8.09428319e-02,  2.17952412e-02,\n",
       "         8.93900637e-03,  7.56596355e-03, -1.12662744e-03,\n",
       "         8.12374172e-04,  4.51094769e-02, -2.83360519e-02,\n",
       "         3.45436965e-05, -2.42624152e-02,  3.16914655e-02,\n",
       "         3.59189361e-02,  1.32708335e-02,  5.18614717e-04,\n",
       "        -4.33838740e-03,  2.70740762e-02,  7.15617761e-02,\n",
       "         5.86122423e-02,  6.00811243e-02,  6.33650720e-02,\n",
       "        -1.17098996e-02,  2.60003693e-02,  3.67927551e-02,\n",
       "         6.42482862e-02,  4.22110632e-02,  1.82141121e-02,\n",
       "        -2.08070483e-02, -1.02953456e-01, -7.01675862e-02,\n",
       "         1.40173286e-02,  5.08606322e-02, -1.40031958e-02,\n",
       "        -2.56662946e-02,  4.94854972e-02, -1.41338473e-02,\n",
       "        -2.22514868e-02,  6.96411496e-03,  1.99099234e-03,\n",
       "         3.11344024e-02, -3.59679312e-02,  1.20211309e-02,\n",
       "        -8.13643727e-03,  5.52460179e-02, -1.12135913e-02,\n",
       "         2.29858067e-02, -8.61899648e-03, -2.95205303e-02,\n",
       "         4.50866930e-02,  4.23575416e-02, -1.18447943e-02,\n",
       "        -1.81008372e-02,  6.19075261e-02,  4.42908444e-02,\n",
       "        -2.99153905e-02,  4.42988724e-02, -3.28133702e-02,\n",
       "         2.80440692e-02,  4.61433530e-02,  1.69494543e-02]], dtype=float32)"
      ]
     },
     "execution_count": 14,
     "metadata": {},
     "output_type": "execute_result"
    }
   ],
   "source": [
    "_vector"
   ]
  },
  {
   "cell_type": "code",
   "execution_count": 19,
   "id": "bc13073e",
   "metadata": {},
   "outputs": [],
   "source": [
    "k = index.ntotal\n",
    "distances, src = index.search(_vector, k=k)"
   ]
  },
  {
   "cell_type": "code",
   "execution_count": 16,
   "id": "8246fe27",
   "metadata": {},
   "outputs": [
    {
     "data": {
      "text/plain": [
       "5"
      ]
     },
     "execution_count": 16,
     "metadata": {},
     "output_type": "execute_result"
    }
   ],
   "source": [
    "k"
   ]
  },
  {
   "cell_type": "code",
   "execution_count": 20,
   "id": "edae8351",
   "metadata": {},
   "outputs": [],
   "source": [
    "result = pd.DataFrame({'distances': distances[0], 'src': src[0]})"
   ]
  },
  {
   "cell_type": "code",
   "execution_count": 21,
   "id": "eb44ed61",
   "metadata": {},
   "outputs": [
    {
     "data": {
      "text/html": [
       "<div>\n",
       "<style scoped>\n",
       "    .dataframe tbody tr th:only-of-type {\n",
       "        vertical-align: middle;\n",
       "    }\n",
       "\n",
       "    .dataframe tbody tr th {\n",
       "        vertical-align: top;\n",
       "    }\n",
       "\n",
       "    .dataframe thead th {\n",
       "        text-align: right;\n",
       "    }\n",
       "</style>\n",
       "<table border=\"1\" class=\"dataframe\">\n",
       "  <thead>\n",
       "    <tr style=\"text-align: right;\">\n",
       "      <th></th>\n",
       "      <th>distances</th>\n",
       "      <th>src</th>\n",
       "    </tr>\n",
       "  </thead>\n",
       "  <tbody>\n",
       "    <tr>\n",
       "      <th>0</th>\n",
       "      <td>0.773289</td>\n",
       "      <td>0</td>\n",
       "    </tr>\n",
       "    <tr>\n",
       "      <th>1</th>\n",
       "      <td>0.833064</td>\n",
       "      <td>4</td>\n",
       "    </tr>\n",
       "    <tr>\n",
       "      <th>2</th>\n",
       "      <td>1.132186</td>\n",
       "      <td>2</td>\n",
       "    </tr>\n",
       "    <tr>\n",
       "      <th>3</th>\n",
       "      <td>1.142530</td>\n",
       "      <td>3</td>\n",
       "    </tr>\n",
       "    <tr>\n",
       "      <th>4</th>\n",
       "      <td>1.314004</td>\n",
       "      <td>1</td>\n",
       "    </tr>\n",
       "  </tbody>\n",
       "</table>\n",
       "</div>"
      ],
      "text/plain": [
       "   distances  src\n",
       "0   0.773289    0\n",
       "1   0.833064    4\n",
       "2   1.132186    2\n",
       "3   1.142530    3\n",
       "4   1.314004    1"
      ]
     },
     "execution_count": 21,
     "metadata": {},
     "output_type": "execute_result"
    }
   ],
   "source": [
    "result"
   ]
  },
  {
   "cell_type": "code",
   "execution_count": 24,
   "id": "23a70783",
   "metadata": {},
   "outputs": [],
   "source": [
    "join=pd.merge(result,df,left_on='src',right_index=True)"
   ]
  },
  {
   "cell_type": "code",
   "execution_count": 25,
   "id": "b80dee54",
   "metadata": {},
   "outputs": [
    {
     "data": {
      "text/html": [
       "<div>\n",
       "<style scoped>\n",
       "    .dataframe tbody tr th:only-of-type {\n",
       "        vertical-align: middle;\n",
       "    }\n",
       "\n",
       "    .dataframe tbody tr th {\n",
       "        vertical-align: top;\n",
       "    }\n",
       "\n",
       "    .dataframe thead th {\n",
       "        text-align: right;\n",
       "    }\n",
       "</style>\n",
       "<table border=\"1\" class=\"dataframe\">\n",
       "  <thead>\n",
       "    <tr style=\"text-align: right;\">\n",
       "      <th></th>\n",
       "      <th>distances</th>\n",
       "      <th>src</th>\n",
       "      <th>Review</th>\n",
       "      <th>Rating</th>\n",
       "    </tr>\n",
       "  </thead>\n",
       "  <tbody>\n",
       "    <tr>\n",
       "      <th>0</th>\n",
       "      <td>0.773289</td>\n",
       "      <td>0</td>\n",
       "      <td>This dress is perfection! so pretty and flatte...</td>\n",
       "      <td>3.0</td>\n",
       "    </tr>\n",
       "    <tr>\n",
       "      <th>1</th>\n",
       "      <td>0.833064</td>\n",
       "      <td>4</td>\n",
       "      <td>I love the look and feel of this tulle dress.</td>\n",
       "      <td>5.0</td>\n",
       "    </tr>\n",
       "    <tr>\n",
       "      <th>2</th>\n",
       "      <td>1.132186</td>\n",
       "      <td>2</td>\n",
       "      <td>If this product was in petite, i would get the...</td>\n",
       "      <td>5.0</td>\n",
       "    </tr>\n",
       "    <tr>\n",
       "      <th>3</th>\n",
       "      <td>1.142530</td>\n",
       "      <td>3</td>\n",
       "      <td>This is a nice choice for holiday gatherings. ...</td>\n",
       "      <td>5.0</td>\n",
       "    </tr>\n",
       "    <tr>\n",
       "      <th>4</th>\n",
       "      <td>1.314004</td>\n",
       "      <td>1</td>\n",
       "      <td>A flattering, super cozy coat.  will work well...</td>\n",
       "      <td>4.0</td>\n",
       "    </tr>\n",
       "  </tbody>\n",
       "</table>\n",
       "</div>"
      ],
      "text/plain": [
       "   distances  src                                             Review  Rating\n",
       "0   0.773289    0  This dress is perfection! so pretty and flatte...     3.0\n",
       "1   0.833064    4      I love the look and feel of this tulle dress.     5.0\n",
       "2   1.132186    2  If this product was in petite, i would get the...     5.0\n",
       "3   1.142530    3  This is a nice choice for holiday gatherings. ...     5.0\n",
       "4   1.314004    1  A flattering, super cozy coat.  will work well...     4.0"
      ]
     },
     "execution_count": 25,
     "metadata": {},
     "output_type": "execute_result"
    }
   ],
   "source": [
    "join"
   ]
  },
  {
   "cell_type": "code",
   "execution_count": 26,
   "id": "a9cb59fc",
   "metadata": {},
   "outputs": [
    {
     "data": {
      "text/plain": [
       "'This dress is perfection! so pretty and flattering.'"
      ]
     },
     "execution_count": 26,
     "metadata": {},
     "output_type": "execute_result"
    }
   ],
   "source": [
    "df['Review'][0]"
   ]
  },
  {
   "cell_type": "code",
   "execution_count": null,
   "id": "f37d1462",
   "metadata": {},
   "outputs": [],
   "source": []
  }
 ],
 "metadata": {
  "kernelspec": {
   "display_name": "Python 3 (ipykernel)",
   "language": "python",
   "name": "python3"
  },
  "language_info": {
   "codemirror_mode": {
    "name": "ipython",
    "version": 3
   },
   "file_extension": ".py",
   "mimetype": "text/x-python",
   "name": "python",
   "nbconvert_exporter": "python",
   "pygments_lexer": "ipython3",
   "version": "3.11.5"
  }
 },
 "nbformat": 4,
 "nbformat_minor": 5
}
